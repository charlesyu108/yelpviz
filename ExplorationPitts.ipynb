{
 "cells": [
  {
   "cell_type": "code",
   "execution_count": 1,
   "metadata": {},
   "outputs": [],
   "source": [
    "import pandas as pd\n",
    "import matplotlib.pyplot as plt\n",
    "import seaborn as sns"
   ]
  },
  {
   "cell_type": "code",
   "execution_count": 2,
   "metadata": {},
   "outputs": [],
   "source": [
    "with open(\"data/yelp_cats_boston.csv\") as f:\n",
    "    bos_df = pd.read_csv(f)\n",
    "with open(\"data/Yelp-Pittsburgh.m.csv\") as f:\n",
    "    pits_df = pd.read_csv(f)"
   ]
  },
  {
   "cell_type": "code",
   "execution_count": 3,
   "metadata": {},
   "outputs": [],
   "source": [
    "df = pits_df"
   ]
  },
  {
   "cell_type": "code",
   "execution_count": 4,
   "metadata": {},
   "outputs": [
    {
     "data": {
      "text/html": [
       "<div>\n",
       "<style scoped>\n",
       "    .dataframe tbody tr th:only-of-type {\n",
       "        vertical-align: middle;\n",
       "    }\n",
       "\n",
       "    .dataframe tbody tr th {\n",
       "        vertical-align: top;\n",
       "    }\n",
       "\n",
       "    .dataframe thead th {\n",
       "        text-align: right;\n",
       "    }\n",
       "</style>\n",
       "<table border=\"1\" class=\"dataframe\">\n",
       "  <thead>\n",
       "    <tr style=\"text-align: right;\">\n",
       "      <th></th>\n",
       "      <th>review count</th>\n",
       "      <th>rating</th>\n",
       "      <th>latitude</th>\n",
       "      <th>longitude</th>\n",
       "    </tr>\n",
       "  </thead>\n",
       "  <tbody>\n",
       "    <tr>\n",
       "      <th>count</th>\n",
       "      <td>331.000000</td>\n",
       "      <td>331.000000</td>\n",
       "      <td>331.000000</td>\n",
       "      <td>331.000000</td>\n",
       "    </tr>\n",
       "    <tr>\n",
       "      <th>mean</th>\n",
       "      <td>73.504532</td>\n",
       "      <td>4.206949</td>\n",
       "      <td>40.442566</td>\n",
       "      <td>-79.974749</td>\n",
       "    </tr>\n",
       "    <tr>\n",
       "      <th>std</th>\n",
       "      <td>94.585936</td>\n",
       "      <td>0.484843</td>\n",
       "      <td>0.029336</td>\n",
       "      <td>0.049059</td>\n",
       "    </tr>\n",
       "    <tr>\n",
       "      <th>min</th>\n",
       "      <td>1.000000</td>\n",
       "      <td>1.000000</td>\n",
       "      <td>40.344232</td>\n",
       "      <td>-80.168932</td>\n",
       "    </tr>\n",
       "    <tr>\n",
       "      <th>25%</th>\n",
       "      <td>21.000000</td>\n",
       "      <td>4.000000</td>\n",
       "      <td>40.431549</td>\n",
       "      <td>-80.002096</td>\n",
       "    </tr>\n",
       "    <tr>\n",
       "      <th>50%</th>\n",
       "      <td>45.000000</td>\n",
       "      <td>4.000000</td>\n",
       "      <td>40.443359</td>\n",
       "      <td>-79.980494</td>\n",
       "    </tr>\n",
       "    <tr>\n",
       "      <th>75%</th>\n",
       "      <td>91.000000</td>\n",
       "      <td>4.500000</td>\n",
       "      <td>40.456665</td>\n",
       "      <td>-79.948305</td>\n",
       "    </tr>\n",
       "    <tr>\n",
       "      <th>max</th>\n",
       "      <td>1006.000000</td>\n",
       "      <td>5.000000</td>\n",
       "      <td>40.549686</td>\n",
       "      <td>-79.810830</td>\n",
       "    </tr>\n",
       "  </tbody>\n",
       "</table>\n",
       "</div>"
      ],
      "text/plain": [
       "       review count      rating    latitude   longitude\n",
       "count    331.000000  331.000000  331.000000  331.000000\n",
       "mean      73.504532    4.206949   40.442566  -79.974749\n",
       "std       94.585936    0.484843    0.029336    0.049059\n",
       "min        1.000000    1.000000   40.344232  -80.168932\n",
       "25%       21.000000    4.000000   40.431549  -80.002096\n",
       "50%       45.000000    4.000000   40.443359  -79.980494\n",
       "75%       91.000000    4.500000   40.456665  -79.948305\n",
       "max     1006.000000    5.000000   40.549686  -79.810830"
      ]
     },
     "execution_count": 4,
     "metadata": {},
     "output_type": "execute_result"
    }
   ],
   "source": [
    "df.describe()"
   ]
  },
  {
   "cell_type": "code",
   "execution_count": 5,
   "metadata": {},
   "outputs": [
    {
     "name": "stdout",
     "output_type": "stream",
     "text": [
      "Index(['name', 'image_url', 'url', 'review count', 'rating', 'snippet',\n",
      "       'neighborhood', 'latitude', 'longitude', 'category', 'type'],\n",
      "      dtype='object')\n"
     ]
    }
   ],
   "source": [
    "print(df.columns)"
   ]
  },
  {
   "cell_type": "code",
   "execution_count": 6,
   "metadata": {},
   "outputs": [
    {
     "data": {
      "text/plain": [
       "'The best espresso downtown by far.\\n\\nThis is my favorite espresso in the city. 21st is on point. They serve it with a small glass of sparkling water.\\n\\nThe...'"
      ]
     },
     "execution_count": 6,
     "metadata": {},
     "output_type": "execute_result"
    }
   ],
   "source": [
    "df[\"snippet\"][0]"
   ]
  },
  {
   "cell_type": "code",
   "execution_count": 7,
   "metadata": {},
   "outputs": [
    {
     "data": {
      "text/plain": [
       "<matplotlib.axes._subplots.AxesSubplot at 0x11394c550>"
      ]
     },
     "execution_count": 7,
     "metadata": {},
     "output_type": "execute_result"
    },
    {
     "data": {
      "image/png": "[encoded data removed]",
      "text/plain": [
       "<matplotlib.figure.Figure at 0x1137efda0>"
      ]
     },
     "metadata": {},
     "output_type": "display_data"
    }
   ],
   "source": [
    "sns.distplot(df['rating'])"
   ]
  },
  {
   "cell_type": "code",
   "execution_count": 8,
   "metadata": {},
   "outputs": [
    {
     "data": {
      "text/plain": [
       "<matplotlib.axes._subplots.AxesSubplot at 0x113971828>"
      ]
     },
     "execution_count": 8,
     "metadata": {},
     "output_type": "execute_result"
    },
    {
     "data": {
      "image/png": "[encoded data removed]",
      "text/plain": [
       "<matplotlib.figure.Figure at 0x106124c88>"
      ]
     },
     "metadata": {},
     "output_type": "display_data"
    }
   ],
   "source": [
    "sns.countplot(y = df['neighborhood'])"
   ]
  },
  {
   "cell_type": "code",
   "execution_count": 9,
   "metadata": {},
   "outputs": [],
   "source": [
    "# BOSTON only\n",
    "# import ast\n",
    "# df[\"cat_list\"] = bos_df[\"categories\"].apply(lambda x: ast.literal_eval(x))\n",
    "# print(bos_df[\"cat_list\"][:10])\n",
    "# all_cats = []\n",
    "# for d in bos_df[\"cat_list\"]:\n",
    "#     all_cats.extend(d)\n",
    "# fig, ax = plt.subplots()\n",
    "# fig.set_size_inches(11.7, 12)\n",
    "# sns.countplot(y = list(map(lambda x: x[0], all_cats)))"
   ]
  },
  {
   "cell_type": "code",
   "execution_count": 10,
   "metadata": {},
   "outputs": [
    {
     "data": {
      "text/plain": [
       "<matplotlib.axes._subplots.AxesSubplot at 0x113a257b8>"
      ]
     },
     "execution_count": 10,
     "metadata": {},
     "output_type": "execute_result"
    },
    {
     "data": {
      "image/png": "[encoded data removed]",
      "text/plain": [
       "<matplotlib.figure.Figure at 0x113a189b0>"
      ]
     },
     "metadata": {},
     "output_type": "display_data"
    }
   ],
   "source": [
    "# PITSBURGH only\n",
    "sns.countplot(y = df['type'])"
   ]
  },
  {
   "cell_type": "code",
   "execution_count": 11,
   "metadata": {},
   "outputs": [
    {
     "data": {
      "text/plain": [
       "indpak           20\n",
       "shopping         20\n",
       "sushi            20\n",
       "ethnicmarkets    19\n",
       "nightlife        19\n",
       "coffee           19\n",
       "sandwiches       19\n",
       "pizza            19\n",
       "mexican          18\n",
       "arts             17\n",
       "thai             17\n",
       "active           16\n",
       "bakeries         15\n",
       "italian          15\n",
       "chinese          14\n",
       "newamerican      12\n",
       "vietnamese       11\n",
       "cafes            10\n",
       "donuts            9\n",
       "french            8\n",
       "japanese          8\n",
       "restaurants       6\n",
       "Name: category, dtype: int64"
      ]
     },
     "execution_count": 11,
     "metadata": {},
     "output_type": "execute_result"
    }
   ],
   "source": [
    "df['category'].value_counts()"
   ]
  },
  {
   "cell_type": "code",
   "execution_count": 12,
   "metadata": {},
   "outputs": [
    {
     "data": {
      "text/plain": [
       "<matplotlib.axes._subplots.AxesSubplot at 0x113a9f198>"
      ]
     },
     "execution_count": 12,
     "metadata": {},
     "output_type": "execute_result"
    },
    {
     "data": {
      "image/png": "[encoded data removed]",
      "text/plain": [
       "<matplotlib.figure.Figure at 0x113aa6400>"
      ]
     },
     "metadata": {},
     "output_type": "display_data"
    }
   ],
   "source": [
    "sns.countplot(y = df['category'])"
   ]
  },
  {
   "cell_type": "code",
   "execution_count": 13,
   "metadata": {},
   "outputs": [],
   "source": [
    "from sklearn.feature_extraction.text import CountVectorizer"
   ]
  },
  {
   "cell_type": "code",
   "execution_count": 14,
   "metadata": {},
   "outputs": [],
   "source": [
    "categories = df[\"category\"].value_counts()\n",
    "top_terms = {c: None for c in categories.keys()}"
   ]
  },
  {
   "cell_type": "code",
   "execution_count": 15,
   "metadata": {},
   "outputs": [],
   "source": [
    "for c in categories.keys():\n",
    "    vectorizer = CountVectorizer(max_df = .75, max_features = 10, stop_words = 'english')\n",
    "    vectorizer.fit(df[df[\"category\"] == c][\"snippet\"])\n",
    "    top_terms[c] = vectorizer.get_feature_names()"
   ]
  },
  {
   "cell_type": "code",
   "execution_count": 16,
   "metadata": {},
   "outputs": [
    {
     "data": {
      "text/plain": [
       "dict_keys(['ethnicmarkets', 'coffee', 'cafes', 'arts', 'sandwiches', 'restaurants', 'french', 'newamerican', 'sushi', 'bakeries', 'thai', 'nightlife', 'japanese', 'shopping', 'active', 'chinese', 'pizza', 'vietnamese', 'donuts', 'mexican', 'indpak', 'italian'])"
      ]
     },
     "execution_count": 16,
     "metadata": {},
     "output_type": "execute_result"
    }
   ],
   "source": [
    "top_terms.keys()"
   ]
  },
  {
   "cell_type": "code",
   "execution_count": 17,
   "metadata": {},
   "outputs": [
    {
     "name": "stdout",
     "output_type": "stream",
     "text": [
      "ethnicmarkets\n",
      "**************************************************\n",
      "coffee\n",
      "grocery\n",
      "little\n",
      "pittsburgh\n",
      "place\n",
      "restaurant\n",
      "small\n",
      "store\n",
      "taste\n",
      "thai\n",
      "==================================================\n",
      "coffee\n",
      "**************************************************\n",
      "best\n",
      "coffee\n",
      "espresso\n",
      "favorite\n",
      "friendly\n",
      "great\n",
      "little\n",
      "small\n",
      "worth\n",
      "zeke\n",
      "==================================================\n",
      "cafes\n",
      "**************************************************\n",
      "brookline\n",
      "day\n",
      "downtown\n",
      "little\n",
      "macy\n",
      "man\n",
      "picked\n",
      "place\n",
      "store\n",
      "time\n",
      "==================================================\n",
      "arts\n",
      "**************************************************\n",
      "entrance\n",
      "fun\n",
      "going\n",
      "looking\n",
      "love\n",
      "museum\n",
      "place\n",
      "shows\n",
      "ve\n",
      "years\n",
      "==================================================\n",
      "sandwiches\n",
      "**************************************************\n",
      "beef\n",
      "breakfast\n",
      "great\n",
      "ordered\n",
      "pittsburgh\n",
      "place\n",
      "sandwich\n",
      "small\n",
      "staff\n",
      "went\n",
      "==================================================\n",
      "restaurants\n",
      "**************************************************\n",
      "10\n",
      "good\n",
      "meal\n",
      "menu\n",
      "music\n",
      "nice\n",
      "night\n",
      "people\n",
      "person\n",
      "ve\n",
      "==================================================\n",
      "french\n",
      "**************************************************\n",
      "brunch\n",
      "crepes\n",
      "husband\n",
      "little\n",
      "love\n",
      "menu\n",
      "stopped\n",
      "time\n",
      "today\n",
      "went\n",
      "==================================================\n",
      "newamerican\n",
      "**************************************************\n",
      "check\n",
      "city\n",
      "decided\n",
      "delicious\n",
      "dinner\n",
      "excellent\n",
      "food\n",
      "new\n",
      "pittsburgh\n",
      "place\n",
      "==================================================\n",
      "sushi\n",
      "**************************************************\n",
      "food\n",
      "good\n",
      "japanese\n",
      "place\n",
      "restaurant\n",
      "roll\n",
      "spicy\n",
      "sushi\n",
      "tokyo\n",
      "ve\n",
      "==================================================\n",
      "bakeries\n",
      "**************************************************\n",
      "bakery\n",
      "bread\n",
      "breadworks\n",
      "breakfast\n",
      "got\n",
      "having\n",
      "head\n",
      "place\n",
      "stop\n",
      "today\n",
      "==================================================\n",
      "thai\n",
      "**************************************************\n",
      "chicken\n",
      "delicious\n",
      "different\n",
      "food\n",
      "friendly\n",
      "good\n",
      "like\n",
      "place\n",
      "staff\n",
      "thai\n",
      "==================================================\n",
      "nightlife\n",
      "**************************************************\n",
      "atmosphere\n",
      "awesome\n",
      "bar\n",
      "beer\n",
      "fun\n",
      "great\n",
      "love\n",
      "night\n",
      "pittsburgh\n",
      "place\n",
      "==================================================\n",
      "japanese\n",
      "**************************************************\n",
      "best\n",
      "establishment\n",
      "fine\n",
      "great\n",
      "location\n",
      "pittsburgh\n",
      "place\n",
      "restaurant\n",
      "review\n",
      "sushi\n",
      "==================================================\n",
      "shopping\n",
      "**************************************************\n",
      "best\n",
      "great\n",
      "love\n",
      "pittsburgh\n",
      "place\n",
      "really\n",
      "shop\n",
      "store\n",
      "unique\n",
      "visit\n",
      "==================================================\n",
      "active\n",
      "**************************************************\n",
      "fun\n",
      "getting\n",
      "great\n",
      "love\n",
      "park\n",
      "pittsburgh\n",
      "place\n",
      "time\n",
      "went\n",
      "yoga\n",
      "==================================================\n",
      "chinese\n",
      "**************************************************\n",
      "best\n",
      "chinese\n",
      "delivery\n",
      "food\n",
      "good\n",
      "great\n",
      "pittsburgh\n",
      "prices\n",
      "service\n",
      "years\n",
      "==================================================\n",
      "pizza\n",
      "**************************************************\n",
      "best\n",
      "burgh\n",
      "cheese\n",
      "delicious\n",
      "good\n",
      "just\n",
      "love\n",
      "pittsburgh\n",
      "pizza\n",
      "sauce\n",
      "==================================================\n",
      "vietnamese\n",
      "**************************************************\n",
      "best\n",
      "food\n",
      "miss\n",
      "pho\n",
      "pittsburgh\n",
      "place\n",
      "restaurants\n",
      "saigon\n",
      "seriously\n",
      "vietnamese\n",
      "==================================================\n",
      "donuts\n",
      "**************************************************\n",
      "dozen\n",
      "hills\n",
      "just\n",
      "left\n",
      "list\n",
      "pittsburgh\n",
      "staff\n",
      "super\n",
      "times\n",
      "yelp\n",
      "==================================================\n",
      "mexican\n",
      "**************************************************\n",
      "amazing\n",
      "best\n",
      "don\n",
      "food\n",
      "good\n",
      "love\n",
      "mexican\n",
      "place\n",
      "taco\n",
      "time\n",
      "==================================================\n",
      "indpak\n",
      "**************************************************\n",
      "buffet\n",
      "chicken\n",
      "eating\n",
      "food\n",
      "indian\n",
      "lunch\n",
      "menu\n",
      "place\n",
      "restaurant\n",
      "ve\n",
      "==================================================\n",
      "italian\n",
      "**************************************************\n",
      "amazing\n",
      "atmosphere\n",
      "favorite\n",
      "food\n",
      "fresh\n",
      "great\n",
      "love\n",
      "pizza\n",
      "place\n",
      "service\n",
      "==================================================\n"
     ]
    }
   ],
   "source": [
    "for key, terms in top_terms.items():\n",
    "    print(key)\n",
    "    print(\"*\"*50)\n",
    "    for term in terms:\n",
    "        print(term)\n",
    "    print(\"=\"*50)"
   ]
  },
  {
   "cell_type": "code",
   "execution_count": 20,
   "metadata": {},
   "outputs": [
    {
     "data": {
      "text/plain": [
       "34"
      ]
     },
     "execution_count": 20,
     "metadata": {},
     "output_type": "execute_result"
    }
   ],
   "source": [
    "len(df[\"neighborhood\"].value_counts())"
   ]
  },
  {
   "cell_type": "code",
   "execution_count": null,
   "metadata": {},
   "outputs": [],
   "source": []
  }
 ],
 "metadata": {
  "kernelspec": {
   "display_name": "Python 3",
   "language": "python",
   "name": "python3"
  },
  "language_info": {
   "codemirror_mode": {
    "name": "ipython",
    "version": 3
   },
   "file_extension": ".py",
   "mimetype": "text/x-python",
   "name": "python",
   "nbconvert_exporter": "python",
   "pygments_lexer": "ipython3",
   "version": "3.5.2"
  }
 },
 "nbformat": 4,
 "nbformat_minor": 2
}
