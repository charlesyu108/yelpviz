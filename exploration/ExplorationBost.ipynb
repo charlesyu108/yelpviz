{
 "cells": [
  {
   "cell_type": "code",
   "execution_count": 22,
   "metadata": {},
   "outputs": [],
   "source": [
    "import pandas as pd\n",
    "import matplotlib.pyplot as plt\n",
    "import seaborn as sns\n",
    "import json"
   ]
  },
  {
   "cell_type": "code",
   "execution_count": 2,
   "metadata": {},
   "outputs": [],
   "source": [
    "with open(\"data/yelp_cats_boston.csv\") as f:\n",
    "    bos_df = pd.read_csv(f)\n",
    "with open(\"data/Yelp-Pittsburgh.m.csv\") as f:\n",
    "    pits_df = pd.read_csv(f)"
   ]
  },
  {
   "cell_type": "code",
   "execution_count": 3,
   "metadata": {},
   "outputs": [],
   "source": [
    "df = bos_df"
   ]
  },
  {
   "cell_type": "code",
   "execution_count": 4,
   "metadata": {},
   "outputs": [
    {
     "data": {
      "text/html": [
       "<div>\n",
       "<style scoped>\n",
       "    .dataframe tbody tr th:only-of-type {\n",
       "        vertical-align: middle;\n",
       "    }\n",
       "\n",
       "    .dataframe tbody tr th {\n",
       "        vertical-align: top;\n",
       "    }\n",
       "\n",
       "    .dataframe thead th {\n",
       "        text-align: right;\n",
       "    }\n",
       "</style>\n",
       "<table border=\"1\" class=\"dataframe\">\n",
       "  <thead>\n",
       "    <tr style=\"text-align: right;\">\n",
       "      <th></th>\n",
       "      <th>review_count</th>\n",
       "      <th>rating</th>\n",
       "      <th>nlatitude</th>\n",
       "      <th>nlongitude</th>\n",
       "      <th>latitude</th>\n",
       "      <th>longitude</th>\n",
       "    </tr>\n",
       "  </thead>\n",
       "  <tbody>\n",
       "    <tr>\n",
       "      <th>count</th>\n",
       "      <td>343.000000</td>\n",
       "      <td>343.000000</td>\n",
       "      <td>266.000000</td>\n",
       "      <td>266.000000</td>\n",
       "      <td>343.000000</td>\n",
       "      <td>343.000000</td>\n",
       "    </tr>\n",
       "    <tr>\n",
       "      <th>mean</th>\n",
       "      <td>243.192420</td>\n",
       "      <td>4.155977</td>\n",
       "      <td>42.352467</td>\n",
       "      <td>28.929163</td>\n",
       "      <td>42.354902</td>\n",
       "      <td>28.925954</td>\n",
       "    </tr>\n",
       "    <tr>\n",
       "      <th>std</th>\n",
       "      <td>340.450292</td>\n",
       "      <td>0.310184</td>\n",
       "      <td>0.016630</td>\n",
       "      <td>0.026357</td>\n",
       "      <td>0.022181</td>\n",
       "      <td>0.032851</td>\n",
       "    </tr>\n",
       "    <tr>\n",
       "      <th>min</th>\n",
       "      <td>6.000000</td>\n",
       "      <td>3.500000</td>\n",
       "      <td>42.279755</td>\n",
       "      <td>28.837324</td>\n",
       "      <td>42.243252</td>\n",
       "      <td>28.773414</td>\n",
       "    </tr>\n",
       "    <tr>\n",
       "      <th>25%</th>\n",
       "      <td>60.000000</td>\n",
       "      <td>4.000000</td>\n",
       "      <td>42.350064</td>\n",
       "      <td>28.919024</td>\n",
       "      <td>42.348277</td>\n",
       "      <td>28.911270</td>\n",
       "    </tr>\n",
       "    <tr>\n",
       "      <th>50%</th>\n",
       "      <td>121.000000</td>\n",
       "      <td>4.000000</td>\n",
       "      <td>42.353904</td>\n",
       "      <td>28.937595</td>\n",
       "      <td>42.352104</td>\n",
       "      <td>28.937318</td>\n",
       "    </tr>\n",
       "    <tr>\n",
       "      <th>75%</th>\n",
       "      <td>308.000000</td>\n",
       "      <td>4.500000</td>\n",
       "      <td>42.360083</td>\n",
       "      <td>28.945766</td>\n",
       "      <td>42.363778</td>\n",
       "      <td>28.944697</td>\n",
       "    </tr>\n",
       "    <tr>\n",
       "      <th>max</th>\n",
       "      <td>3519.000000</td>\n",
       "      <td>5.000000</td>\n",
       "      <td>42.401117</td>\n",
       "      <td>28.961140</td>\n",
       "      <td>42.453082</td>\n",
       "      <td>29.012090</td>\n",
       "    </tr>\n",
       "  </tbody>\n",
       "</table>\n",
       "</div>"
      ],
      "text/plain": [
       "       review_count      rating   nlatitude  nlongitude    latitude  \\\n",
       "count    343.000000  343.000000  266.000000  266.000000  343.000000   \n",
       "mean     243.192420    4.155977   42.352467   28.929163   42.354902   \n",
       "std      340.450292    0.310184    0.016630    0.026357    0.022181   \n",
       "min        6.000000    3.500000   42.279755   28.837324   42.243252   \n",
       "25%       60.000000    4.000000   42.350064   28.919024   42.348277   \n",
       "50%      121.000000    4.000000   42.353904   28.937595   42.352104   \n",
       "75%      308.000000    4.500000   42.360083   28.945766   42.363778   \n",
       "max     3519.000000    5.000000   42.401117   28.961140   42.453082   \n",
       "\n",
       "        longitude  \n",
       "count  343.000000  \n",
       "mean    28.925954  \n",
       "std      0.032851  \n",
       "min     28.773414  \n",
       "25%     28.911270  \n",
       "50%     28.937318  \n",
       "75%     28.944697  \n",
       "max     29.012090  "
      ]
     },
     "execution_count": 4,
     "metadata": {},
     "output_type": "execute_result"
    }
   ],
   "source": [
    "df.describe()"
   ]
  },
  {
   "cell_type": "code",
   "execution_count": 5,
   "metadata": {},
   "outputs": [
    {
     "name": "stdout",
     "output_type": "stream",
     "text": [
      "Index(['name', 'image_url', 'url', 'review_count', 'categories', 'rating',\n",
      "       'snippet_text', 'location', 'neighborhood', 'nlatitude', 'nlongitude',\n",
      "       'latitude', 'longitude', 'search category'],\n",
      "      dtype='object')\n"
     ]
    }
   ],
   "source": [
    "print(df.columns)"
   ]
  },
  {
   "cell_type": "code",
   "execution_count": 7,
   "metadata": {},
   "outputs": [
    {
     "data": {
      "text/plain": [
       "\"After going to Wheelhouse, you'll never order a Dunkin Donuts' breakfast sandwich ever again. Well, you might, but you won't enjoy it.\\n\\nThis place has the...\""
      ]
     },
     "execution_count": 7,
     "metadata": {},
     "output_type": "execute_result"
    }
   ],
   "source": [
    "df[\"snippet_text\"][0]"
   ]
  },
  {
   "cell_type": "code",
   "execution_count": 8,
   "metadata": {},
   "outputs": [
    {
     "data": {
      "text/plain": [
       "<matplotlib.axes._subplots.AxesSubplot at 0x113a91dd8>"
      ]
     },
     "execution_count": 8,
     "metadata": {},
     "output_type": "execute_result"
    },
    {
     "data": {
      "image/png": "[encoded data removed]",
      "text/plain": [
       "<matplotlib.figure.Figure at 0x113a916a0>"
      ]
     },
     "metadata": {},
     "output_type": "display_data"
    }
   ],
   "source": [
    "sns.distplot(df['rating'])"
   ]
  },
  {
   "cell_type": "code",
   "execution_count": 9,
   "metadata": {},
   "outputs": [
    {
     "data": {
      "text/plain": [
       "<matplotlib.axes._subplots.AxesSubplot at 0x113bda3c8>"
      ]
     },
     "execution_count": 9,
     "metadata": {},
     "output_type": "execute_result"
    },
    {
     "data": {
      "image/png": "[encoded data removed]",
      "text/plain": [
       "<matplotlib.figure.Figure at 0x113674da0>"
      ]
     },
     "metadata": {},
     "output_type": "display_data"
    }
   ],
   "source": [
    "sns.countplot(y = df['neighborhood'])"
   ]
  },
  {
   "cell_type": "code",
   "execution_count": 14,
   "metadata": {},
   "outputs": [
    {
     "name": "stdout",
     "output_type": "stream",
     "text": [
      "0    [[Breakfast & Brunch, breakfast_brunch], [Burg...\n",
      "1                                 [[Mexican, mexican]]\n",
      "2                               [[Japanese, japanese]]\n",
      "3                 [[Italian, italian], [Pizza, pizza]]\n",
      "4      [[Seafood, seafood], [Live/Raw Food, raw_food]]\n",
      "5                      [[American (New), newamerican]]\n",
      "6    [[Mediterranean, mediterranean], [Vegan, vegan...\n",
      "7    [[Spanish, spanish], [Wine Bars, wine_bars], [...\n",
      "8    [[Pizza, pizza], [Salad, salad], [Sandwiches, ...\n",
      "9                 [[Italian, italian], [Pizza, pizza]]\n",
      "Name: cat_list, dtype: object\n"
     ]
    },
    {
     "data": {
      "text/plain": [
       "<matplotlib.axes._subplots.AxesSubplot at 0x11453cc50>"
      ]
     },
     "execution_count": 14,
     "metadata": {},
     "output_type": "execute_result"
    },
    {
     "data": {
      "image/png": "[encoded data removed]",
      "text/plain": [
       "<matplotlib.figure.Figure at 0x1137cc0b8>"
      ]
     },
     "metadata": {},
     "output_type": "display_data"
    }
   ],
   "source": [
    "# BOSTON only\n",
    "import ast\n",
    "df[\"cat_list\"] = bos_df[\"categories\"].apply(lambda x: ast.literal_eval(x))\n",
    "print(bos_df[\"cat_list\"][:10])\n",
    "all_cats = []\n",
    "for d in bos_df[\"cat_list\"]:\n",
    "    all_cats.extend(d)\n",
    "fig, ax = plt.subplots()\n",
    "fig.set_size_inches(11.7, 12)\n",
    "sns.countplot(y = list(map(lambda x: x[0], all_cats)))"
   ]
  },
  {
   "cell_type": "code",
   "execution_count": 15,
   "metadata": {},
   "outputs": [],
   "source": [
    "# PITSBURGH only\n",
    "# sns.countplot(y = df['type'])"
   ]
  },
  {
   "cell_type": "code",
   "execution_count": 19,
   "metadata": {},
   "outputs": [],
   "source": [
    "from sklearn.feature_extraction.text import CountVectorizer"
   ]
  },
  {
   "cell_type": "code",
   "execution_count": 21,
   "metadata": {},
   "outputs": [
    {
     "data": {
      "text/plain": [
       "24"
      ]
     },
     "execution_count": 21,
     "metadata": {},
     "output_type": "execute_result"
    }
   ],
   "source": [
    "len(df[\"neighborhood\"].value_counts())"
   ]
  },
  {
   "cell_type": "code",
   "execution_count": 23,
   "metadata": {},
   "outputs": [],
   "source": [
    "with open(\"data/boston.geojson\") as f:\n",
    "    geodata = json.load(f)"
   ]
  },
  {
   "cell_type": "code",
   "execution_count": 27,
   "metadata": {},
   "outputs": [],
   "source": [
    "validNeighborhoods = list(map(lambda x: x[\"properties\"][\"name\"], geodata[\"features\"]))"
   ]
  },
  {
   "cell_type": "code",
   "execution_count": 28,
   "metadata": {},
   "outputs": [
    {
     "data": {
      "text/plain": [
       "['Roslindale',\n",
       " 'Jamaica Plain',\n",
       " 'Leather District',\n",
       " 'Roxbury',\n",
       " 'Fenway',\n",
       " 'Brighton',\n",
       " 'West Roxbury',\n",
       " 'Hyde Park',\n",
       " 'South End',\n",
       " 'Back Bay',\n",
       " 'East Boston',\n",
       " 'Charlestown',\n",
       " 'Downtown',\n",
       " 'Mission Hill',\n",
       " 'Bay Village',\n",
       " 'Longwood Medical Area',\n",
       " 'Chinatown',\n",
       " 'North End',\n",
       " 'West End',\n",
       " 'Beacon Hill',\n",
       " 'Mattapan',\n",
       " 'Dorchester',\n",
       " 'South Boston Waterfront',\n",
       " 'South Boston',\n",
       " 'Allston',\n",
       " 'Harbor Islands']"
      ]
     },
     "execution_count": 28,
     "metadata": {},
     "output_type": "execute_result"
    }
   ],
   "source": [
    "validNeighborhoods"
   ]
  },
  {
   "cell_type": "code",
   "execution_count": 36,
   "metadata": {},
   "outputs": [],
   "source": [
    "dfnbhds = list(df[\"neighborhood\"].value_counts().keys())"
   ]
  },
  {
   "cell_type": "code",
   "execution_count": 39,
   "metadata": {},
   "outputs": [],
   "source": [
    "inters = [i for i in dfnbhds if i in validNeighborhoods]\n",
    "diff1 = [i for i in dfnbhds if i not in validNeighborhoods]\n",
    "diff2 = [i for i in validNeighborhoods if i not in dfnbhds]"
   ]
  },
  {
   "cell_type": "code",
   "execution_count": 40,
   "metadata": {},
   "outputs": [
    {
     "data": {
      "text/plain": [
       "['North End',\n",
       " 'South End',\n",
       " 'Back Bay',\n",
       " 'Chinatown',\n",
       " 'Downtown',\n",
       " 'East Boston',\n",
       " 'South Boston',\n",
       " 'Dorchester',\n",
       " 'Beacon Hill',\n",
       " 'Fenway',\n",
       " 'Mission Hill',\n",
       " 'Charlestown',\n",
       " 'West Roxbury',\n",
       " 'Jamaica Plain']"
      ]
     },
     "execution_count": 40,
     "metadata": {},
     "output_type": "execute_result"
    }
   ],
   "source": [
    "inters"
   ]
  },
  {
   "cell_type": "code",
   "execution_count": 41,
   "metadata": {},
   "outputs": [
    {
     "data": {
      "text/plain": [
       "['Waterfront',\n",
       " 'Allston/Brighton',\n",
       " 'Financial District',\n",
       " 'Kendall Square/MIT',\n",
       " 'Teele Square',\n",
       " 'Harvard Square',\n",
       " 'Porter Square',\n",
       " 'Coolidge Corner',\n",
       " 'Inman Square',\n",
       " 'North Cambridge']"
      ]
     },
     "execution_count": 41,
     "metadata": {},
     "output_type": "execute_result"
    }
   ],
   "source": [
    "diff1"
   ]
  },
  {
   "cell_type": "code",
   "execution_count": 42,
   "metadata": {},
   "outputs": [
    {
     "data": {
      "text/plain": [
       "['Roslindale',\n",
       " 'Leather District',\n",
       " 'Roxbury',\n",
       " 'Brighton',\n",
       " 'Hyde Park',\n",
       " 'Bay Village',\n",
       " 'Longwood Medical Area',\n",
       " 'West End',\n",
       " 'Mattapan',\n",
       " 'South Boston Waterfront',\n",
       " 'Allston',\n",
       " 'Harbor Islands']"
      ]
     },
     "execution_count": 42,
     "metadata": {},
     "output_type": "execute_result"
    }
   ],
   "source": [
    "diff2"
   ]
  },
  {
   "cell_type": "code",
   "execution_count": null,
   "metadata": {},
   "outputs": [],
   "source": []
  }
 ],
 "metadata": {
  "kernelspec": {
   "display_name": "Python 3",
   "language": "python",
   "name": "python3"
  },
  "language_info": {
   "codemirror_mode": {
    "name": "ipython",
    "version": 3
   },
   "file_extension": ".py",
   "mimetype": "text/x-python",
   "name": "python",
   "nbconvert_exporter": "python",
   "pygments_lexer": "ipython3",
   "version": "3.5.2"
  }
 },
 "nbformat": 4,
 "nbformat_minor": 2
}
